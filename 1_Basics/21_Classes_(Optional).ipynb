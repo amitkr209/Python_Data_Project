{
 "cells": [
  {
   "cell_type": "code",
   "execution_count": 51,
   "metadata": {},
   "outputs": [],
   "source": [
    "class BaseSalary:\n",
    "    def __init__(self, base_salary, bonus_rate=0.1, symbol=\"$\"):\n",
    "        self.base_salary = base_salary\n",
    "        self.bonus_rate = bonus_rate\n",
    "        self.symbol = symbol\n",
    "        self.total_salary = base_salary * (1 + bonus_rate)\n",
    "        self.bonus = (self.total_salary - self.base_salary)\n",
    "\n",
    "    def __repr__(self):\n",
    "        return f'{self.symbol}{self.base_salary:,.0f}'\n",
    "    \n",
    "    def show_salary(self):\n",
    "        return f'{self.symbol}{self.total_salary:,.0f}'\n",
    "    \n",
    "    def show_bonus(self):\n",
    "        return f'{self.bonus:,.0f}'"
   ]
  },
  {
   "cell_type": "code",
   "execution_count": 52,
   "metadata": {},
   "outputs": [
    {
     "data": {
      "text/plain": [
       "'$'"
      ]
     },
     "execution_count": 52,
     "metadata": {},
     "output_type": "execute_result"
    }
   ],
   "source": [
    "salary = BaseSalary(100000)\n",
    "\n",
    "salary.symbol"
   ]
  },
  {
   "cell_type": "code",
   "execution_count": 53,
   "metadata": {},
   "outputs": [
    {
     "data": {
      "text/plain": [
       "$100,000"
      ]
     },
     "execution_count": 53,
     "metadata": {},
     "output_type": "execute_result"
    }
   ],
   "source": [
    "salary"
   ]
  },
  {
   "cell_type": "code",
   "execution_count": 55,
   "metadata": {},
   "outputs": [
    {
     "data": {
      "text/plain": [
       "'$110,000'"
      ]
     },
     "execution_count": 55,
     "metadata": {},
     "output_type": "execute_result"
    }
   ],
   "source": [
    "salary.show_salary()"
   ]
  },
  {
   "cell_type": "code",
   "execution_count": 56,
   "metadata": {},
   "outputs": [
    {
     "data": {
      "text/plain": [
       "'10,000'"
      ]
     },
     "execution_count": 56,
     "metadata": {},
     "output_type": "execute_result"
    }
   ],
   "source": [
    "salary.show_bonus()"
   ]
  },
  {
   "cell_type": "code",
   "execution_count": 72,
   "metadata": {},
   "outputs": [],
   "source": [
    "class DataScienceJobsList:\n",
    "    def __init__(self, jobs):\n",
    "        self.jobs = jobs\n",
    "\n",
    "    def __str__(self):\n",
    "        jobs_str = 'Data Science Jobs: \\n'\n",
    "        for job in self.jobs:\n",
    "            jobs_str += f\"- {job['job_title']}: {job['job_skills']}\\n\"\n",
    "        return jobs_str\n",
    "    \n",
    "    def split_skills(self):\n",
    "        for job in self.jobs:\n",
    "            job['jon_skills'] = job['job_skills'].split(', ')"
   ]
  },
  {
   "cell_type": "code",
   "execution_count": 70,
   "metadata": {},
   "outputs": [],
   "source": [
    "data_science_jobs = [\n",
    "    {'job_title': 'Data Scientist', 'job_skills': \"Python, SQL, Machine Learning\"},\n",
    "    {'job_title': 'Data Analyst', 'job_skills': \"SQL, Excel, Python\"},\n",
    "    {'job_title': 'Machine Learning Engineer', 'job_skills': \"Python, TensorFlow, Keras\"}\n",
    "]"
   ]
  },
  {
   "cell_type": "code",
   "execution_count": 71,
   "metadata": {},
   "outputs": [
    {
     "name": "stdout",
     "output_type": "stream",
     "text": [
      "Data Science Jobs: \n",
      "- Data Scientist: Python, SQL, Machine Learning\n",
      "- Data Analyst: SQL, Excel, Python\n",
      "- Machine Learning Engineer: Python, TensorFlow, Keras\n",
      "\n"
     ]
    }
   ],
   "source": [
    "jobs_list = DataScienceJobsList(data_science_jobs)\n",
    "print(jobs_list)"
   ]
  },
  {
   "cell_type": "code",
   "execution_count": 74,
   "metadata": {},
   "outputs": [
    {
     "name": "stdout",
     "output_type": "stream",
     "text": [
      "Data Science Jobs: \n",
      "- Data Scientist: Python, SQL, Machine Learning\n",
      "- Data Analyst: SQL, Excel, Python\n",
      "- Machine Learning Engineer: Python, TensorFlow, Keras\n",
      "\n"
     ]
    }
   ],
   "source": [
    "jobs_list = DataScienceJobsList(data_science_jobs)\n",
    "jobs_list.split_skills()\n",
    "print(jobs_list)"
   ]
  },
  {
   "cell_type": "markdown",
   "metadata": {},
   "source": [
    "## Practise Questions"
   ]
  },
  {
   "cell_type": "code",
   "execution_count": null,
   "metadata": {},
   "outputs": [],
   "source": []
  }
 ],
 "metadata": {
  "kernelspec": {
   "display_name": "python_course",
   "language": "python",
   "name": "python3"
  },
  "language_info": {
   "codemirror_mode": {
    "name": "ipython",
    "version": 3
   },
   "file_extension": ".py",
   "mimetype": "text/x-python",
   "name": "python",
   "nbconvert_exporter": "python",
   "pygments_lexer": "ipython3",
   "version": "3.11.9"
  }
 },
 "nbformat": 4,
 "nbformat_minor": 2
}
